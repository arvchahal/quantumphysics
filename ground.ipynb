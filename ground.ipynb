{
 "cells": [
  {
   "cell_type": "code",
   "execution_count": null,
   "metadata": {},
   "outputs": [],
   "source": [
    "####THIS IS NOT UP TO DATE"
   ]
  },
  {
   "cell_type": "code",
   "execution_count": 10,
   "metadata": {},
   "outputs": [],
   "source": [
    "import jax.numpy as np\n",
    "from jax import grad, vmap\n",
    "from jax.scipy.linalg import cho_factor,cho_solve\n",
    "# Define parameters for the Gaussian function\n",
    "alpha1 = 1.0\n",
    "alpha2 = 1.0\n",
    "alpha = 0.5\n",
    "\n",
    "# Construct the A matrix\n",
    "A = np.array([[alpha1 + alpha, -alpha, 0.0],\n",
    "              [-alpha, alpha2 + alpha, -alpha],\n",
    "              [0.0, -alpha, alpha1 + alpha]])\n",
    "\n",
    "# Define the s vector (mean position terms) for Φ_i and Φ_j\n",
    "r1 = np.array([1.0, 2.0, 3.0])  # Coordinates for r1 in 3D space\n",
    "r2 = np.array([4.0, 5.0, 6.0])  # Coordinates for r2 in 3D space\n",
    "\n",
    "# Define 3D mean vectors s1 and s2 for each Gaussian\n",
    "s1 = np.array([0.5, 0.5, 0.5])  # Center of the Gaussian for r1\n",
    "s2 = np.array([1.5, 1.5, 1.5])  # Center of the Gaussian for r2\n",
    "\n",
    "\n",
    "# Define a constant term c if needed for the exponential (not shown in the initial code)\n",
    "c = 0.0\n"
   ]
  },
  {
   "cell_type": "code",
   "execution_count": 11,
   "metadata": {},
   "outputs": [],
   "source": [
    "def gaussian_wavefunction(r, A, s, c):\n",
    "    # Compute the quadratic form: -1/2 * r^T A r\n",
    "    quad_form = -0.5 * np.dot(r, np.dot(A, r))\n",
    "    # Compute the linear term: r^T s\n",
    "    linear_term = np.dot(r, s)\n",
    "    # Combine terms for the Gaussian function\n",
    "    return np.exp(quad_form + linear_term + c)\n"
   ]
  },
  {
   "cell_type": "code",
   "execution_count": 25,
   "metadata": {},
   "outputs": [],
   "source": [
    "def kinetic_energy(psi_func, r):\n",
    "    def second_derivative_along_dimension(i):\n",
    "        # Define a function of a single variable along dimension i\n",
    "        def single_dim_function(x):\n",
    "            # Create a copy of r with the i-th component set to x\n",
    "            r_modified = r.at[i].set(x)\n",
    "            return psi_func(r_modified, A, s1, c)\n",
    "        \n",
    "        # Compute the second derivative with respect to the i-th component\n",
    "        return grad(grad(single_dim_function))(r[i])\n",
    "\n",
    "    # Sum the second derivatives across each dimension to get the Laplacian\n",
    "    laplacian_r = np.sum([second_derivative_along_dimension(i) for i in range(3)])\n",
    "    return -0.5 * laplacian_r\n"
   ]
  },
  {
   "cell_type": "code",
   "execution_count": 23,
   "metadata": {},
   "outputs": [],
   "source": [
    "def kinetic_energy(psi_func, r):\n",
    "    # Compute the Laplacian by taking the second derivative with respect to each dimension\n",
    "    laplacian_r = np.sum([grad(grad(lambda x: psi_func(r.at[i].set(x), A, s1, c)))(r[i]) for i in range(3)])\n",
    "    return -0.5 * laplacian_r\n"
   ]
  },
  {
   "cell_type": "code",
   "execution_count": 14,
   "metadata": {},
   "outputs": [],
   "source": [
    "def A_chol_(A):\n",
    "    A_pd, lower = cho_factor(A)\n",
    "    return A_pd, lower"
   ]
  },
  {
   "cell_type": "code",
   "execution_count": null,
   "metadata": {},
   "outputs": [],
   "source": []
  },
  {
   "cell_type": "code",
   "execution_count": 15,
   "metadata": {},
   "outputs": [],
   "source": [
    "def potential_energy(r1, r2, psi_val):\n",
    "    coulomb_term = 1 / np.linalg.norm(r1 - r2)\n",
    "    nucleus_term_r1 = -9 / np.linalg.norm(r1)\n",
    "    nucleus_term_r2 = -9 / np.linalg.norm(r2)\n",
    "    return (coulomb_term + nucleus_term_r1 + nucleus_term_r2) * psi_val\n"
   ]
  },
  {
   "cell_type": "markdown",
   "metadata": {},
   "source": []
  },
  {
   "cell_type": "code",
   "execution_count": 16,
   "metadata": {},
   "outputs": [],
   "source": [
    "def Hamiltonian(psi_func, r1, r2):\n",
    "    # Evaluate the wavefunction\n",
    "    psi_val = psi_func(r1, A, s1, c) * psi_func(r2, A, s2, c)\n",
    "    return kinetic_energy(psi_func, r1) + kinetic_energy(psi_func, r2) + potential_energy(r1, r2, psi_val)\n"
   ]
  },
  {
   "cell_type": "code",
   "execution_count": 27,
   "metadata": {},
   "outputs": [
    {
     "ename": "IndexError",
     "evalue": "Too many indices for array: 1 non-None/Ellipsis indices for dim 0.",
     "output_type": "error",
     "traceback": [
      "\u001b[0;31m---------------------------------------------------------------------------\u001b[0m",
      "\u001b[0;31mIndexError\u001b[0m                                Traceback (most recent call last)",
      "Cell \u001b[0;32mIn[27], line 16\u001b[0m\n\u001b[1;32m     13\u001b[0m     \u001b[38;5;28;01mreturn\u001b[39;00m integrate_2d(integrand, x)\n\u001b[1;32m     15\u001b[0m \u001b[38;5;66;03m# Example calculation\u001b[39;00m\n\u001b[0;32m---> 16\u001b[0m \u001b[38;5;28mprint\u001b[39m(\u001b[38;5;124m\"\u001b[39m\u001b[38;5;124mMatrix Element ⟨Φᵢ | Ĥ | Φⱼ⟩ = \u001b[39m\u001b[38;5;124m\"\u001b[39m, \u001b[43mmatrixElement_Phi_i_H_Phi_j\u001b[49m\u001b[43m(\u001b[49m\u001b[43m)\u001b[49m)\n",
      "Cell \u001b[0;32mIn[27], line 12\u001b[0m, in \u001b[0;36mmatrixElement_Phi_i_H_Phi_j\u001b[0;34m()\u001b[0m\n\u001b[1;32m     11\u001b[0m \u001b[38;5;28;01mdef\u001b[39;00m \u001b[38;5;21mmatrixElement_Phi_i_H_Phi_j\u001b[39m():\n\u001b[0;32m---> 12\u001b[0m     integrand \u001b[38;5;241m=\u001b[39m \u001b[43mvmap\u001b[49m\u001b[43m(\u001b[49m\u001b[38;5;28;43;01mlambda\u001b[39;49;00m\u001b[43m \u001b[49m\u001b[43mx1\u001b[49m\u001b[43m,\u001b[49m\u001b[43m \u001b[49m\u001b[43mx2\u001b[49m\u001b[43m:\u001b[49m\u001b[43m \u001b[49m\u001b[43mgaussian_wavefunction\u001b[49m\u001b[43m(\u001b[49m\u001b[43mr1\u001b[49m\u001b[43m,\u001b[49m\u001b[43m \u001b[49m\u001b[43mA\u001b[49m\u001b[43m,\u001b[49m\u001b[43m \u001b[49m\u001b[43ms1\u001b[49m\u001b[43m,\u001b[49m\u001b[43m \u001b[49m\u001b[43mc\u001b[49m\u001b[43m)\u001b[49m\u001b[43m \u001b[49m\u001b[38;5;241;43m*\u001b[39;49m\u001b[43m \u001b[49m\u001b[43mHamiltonian\u001b[49m\u001b[43m(\u001b[49m\u001b[43mgaussian_wavefunction\u001b[49m\u001b[43m,\u001b[49m\u001b[43m \u001b[49m\u001b[43mx1\u001b[49m\u001b[43m,\u001b[49m\u001b[43m \u001b[49m\u001b[43mx2\u001b[49m\u001b[43m)\u001b[49m\u001b[43m)\u001b[49m\u001b[43m(\u001b[49m\u001b[43mx\u001b[49m\u001b[43m,\u001b[49m\u001b[43m \u001b[49m\u001b[43mx\u001b[49m\u001b[43m)\u001b[49m\n\u001b[1;32m     13\u001b[0m     \u001b[38;5;28;01mreturn\u001b[39;00m integrate_2d(integrand, x)\n",
      "    \u001b[0;31m[... skipping hidden 3 frame]\u001b[0m\n",
      "Cell \u001b[0;32mIn[27], line 12\u001b[0m, in \u001b[0;36mmatrixElement_Phi_i_H_Phi_j.<locals>.<lambda>\u001b[0;34m(x1, x2)\u001b[0m\n\u001b[1;32m     11\u001b[0m \u001b[38;5;28;01mdef\u001b[39;00m \u001b[38;5;21mmatrixElement_Phi_i_H_Phi_j\u001b[39m():\n\u001b[0;32m---> 12\u001b[0m     integrand \u001b[38;5;241m=\u001b[39m vmap(\u001b[38;5;28;01mlambda\u001b[39;00m x1, x2: gaussian_wavefunction(r1, A, s1, c) \u001b[38;5;241m*\u001b[39m \u001b[43mHamiltonian\u001b[49m\u001b[43m(\u001b[49m\u001b[43mgaussian_wavefunction\u001b[49m\u001b[43m,\u001b[49m\u001b[43m \u001b[49m\u001b[43mx1\u001b[49m\u001b[43m,\u001b[49m\u001b[43m \u001b[49m\u001b[43mx2\u001b[49m\u001b[43m)\u001b[49m)(x, x)\n\u001b[1;32m     13\u001b[0m     \u001b[38;5;28;01mreturn\u001b[39;00m integrate_2d(integrand, x)\n",
      "Cell \u001b[0;32mIn[16], line 4\u001b[0m, in \u001b[0;36mHamiltonian\u001b[0;34m(psi_func, r1, r2)\u001b[0m\n\u001b[1;32m      1\u001b[0m \u001b[38;5;28;01mdef\u001b[39;00m \u001b[38;5;21mHamiltonian\u001b[39m(psi_func, r1, r2):\n\u001b[1;32m      2\u001b[0m     \u001b[38;5;66;03m# Evaluate the wavefunction\u001b[39;00m\n\u001b[1;32m      3\u001b[0m     psi_val \u001b[38;5;241m=\u001b[39m psi_func(r1, A, s1, c) \u001b[38;5;241m*\u001b[39m psi_func(r2, A, s2, c)\n\u001b[0;32m----> 4\u001b[0m     \u001b[38;5;28;01mreturn\u001b[39;00m \u001b[43mkinetic_energy\u001b[49m\u001b[43m(\u001b[49m\u001b[43mpsi_func\u001b[49m\u001b[43m,\u001b[49m\u001b[43m \u001b[49m\u001b[43mr1\u001b[49m\u001b[43m)\u001b[49m \u001b[38;5;241m+\u001b[39m kinetic_energy(psi_func, r2) \u001b[38;5;241m+\u001b[39m potential_energy(r1, r2, psi_val)\n",
      "Cell \u001b[0;32mIn[25], line 13\u001b[0m, in \u001b[0;36mkinetic_energy\u001b[0;34m(psi_func, r)\u001b[0m\n\u001b[1;32m     10\u001b[0m     \u001b[38;5;28;01mreturn\u001b[39;00m grad(grad(single_dim_function))(r[i])\n\u001b[1;32m     12\u001b[0m \u001b[38;5;66;03m# Sum the second derivatives across each dimension to get the Laplacian\u001b[39;00m\n\u001b[0;32m---> 13\u001b[0m laplacian_r \u001b[38;5;241m=\u001b[39m np\u001b[38;5;241m.\u001b[39msum([\u001b[43msecond_derivative_along_dimension\u001b[49m\u001b[43m(\u001b[49m\u001b[43mi\u001b[49m\u001b[43m)\u001b[49m \u001b[38;5;28;01mfor\u001b[39;00m i \u001b[38;5;129;01min\u001b[39;00m \u001b[38;5;28mrange\u001b[39m(\u001b[38;5;241m3\u001b[39m)])\n\u001b[1;32m     14\u001b[0m \u001b[38;5;28;01mreturn\u001b[39;00m \u001b[38;5;241m-\u001b[39m\u001b[38;5;241m0.5\u001b[39m \u001b[38;5;241m*\u001b[39m laplacian_r\n",
      "Cell \u001b[0;32mIn[25], line 10\u001b[0m, in \u001b[0;36mkinetic_energy.<locals>.second_derivative_along_dimension\u001b[0;34m(i)\u001b[0m\n\u001b[1;32m      7\u001b[0m     \u001b[38;5;28;01mreturn\u001b[39;00m psi_func(r_modified, A, s1, c)\n\u001b[1;32m      9\u001b[0m \u001b[38;5;66;03m# Compute the second derivative with respect to the i-th component\u001b[39;00m\n\u001b[0;32m---> 10\u001b[0m \u001b[38;5;28;01mreturn\u001b[39;00m grad(grad(single_dim_function))(\u001b[43mr\u001b[49m\u001b[43m[\u001b[49m\u001b[43mi\u001b[49m\u001b[43m]\u001b[49m)\n",
      "File \u001b[0;32m~/mlenv/lib/python3.12/site-packages/jax/_src/numpy/array_methods.py:747\u001b[0m, in \u001b[0;36m_forward_operator_to_aval.<locals>.op\u001b[0;34m(self, *args)\u001b[0m\n\u001b[1;32m    746\u001b[0m \u001b[38;5;28;01mdef\u001b[39;00m \u001b[38;5;21mop\u001b[39m(\u001b[38;5;28mself\u001b[39m, \u001b[38;5;241m*\u001b[39margs):\n\u001b[0;32m--> 747\u001b[0m   \u001b[38;5;28;01mreturn\u001b[39;00m \u001b[38;5;28;43mgetattr\u001b[39;49m\u001b[43m(\u001b[49m\u001b[38;5;28;43mself\u001b[39;49m\u001b[38;5;241;43m.\u001b[39;49m\u001b[43maval\u001b[49m\u001b[43m,\u001b[49m\u001b[43m \u001b[49m\u001b[38;5;124;43mf\u001b[39;49m\u001b[38;5;124;43m\"\u001b[39;49m\u001b[38;5;124;43m_\u001b[39;49m\u001b[38;5;132;43;01m{\u001b[39;49;00m\u001b[43mname\u001b[49m\u001b[38;5;132;43;01m}\u001b[39;49;00m\u001b[38;5;124;43m\"\u001b[39;49m\u001b[43m)\u001b[49m\u001b[43m(\u001b[49m\u001b[38;5;28;43mself\u001b[39;49m\u001b[43m,\u001b[49m\u001b[43m \u001b[49m\u001b[38;5;241;43m*\u001b[39;49m\u001b[43margs\u001b[49m\u001b[43m)\u001b[49m\n",
      "File \u001b[0;32m~/mlenv/lib/python3.12/site-packages/jax/_src/numpy/array_methods.py:359\u001b[0m, in \u001b[0;36m_getitem\u001b[0;34m(self, item)\u001b[0m\n\u001b[1;32m    358\u001b[0m \u001b[38;5;28;01mdef\u001b[39;00m \u001b[38;5;21m_getitem\u001b[39m(\u001b[38;5;28mself\u001b[39m, item):\n\u001b[0;32m--> 359\u001b[0m   \u001b[38;5;28;01mreturn\u001b[39;00m \u001b[43mlax_numpy\u001b[49m\u001b[38;5;241;43m.\u001b[39;49m\u001b[43m_rewriting_take\u001b[49m\u001b[43m(\u001b[49m\u001b[38;5;28;43mself\u001b[39;49m\u001b[43m,\u001b[49m\u001b[43m \u001b[49m\u001b[43mitem\u001b[49m\u001b[43m)\u001b[49m\n",
      "File \u001b[0;32m~/mlenv/lib/python3.12/site-packages/jax/_src/numpy/lax_numpy.py:7856\u001b[0m, in \u001b[0;36m_rewriting_take\u001b[0;34m(arr, idx, indices_are_sorted, unique_indices, mode, fill_value)\u001b[0m\n\u001b[1;32m   7853\u001b[0m       \u001b[38;5;28;01mreturn\u001b[39;00m lax\u001b[38;5;241m.\u001b[39mdynamic_index_in_dim(arr, idx, keepdims\u001b[38;5;241m=\u001b[39m\u001b[38;5;28;01mFalse\u001b[39;00m)\n\u001b[1;32m   7855\u001b[0m treedef, static_idx, dynamic_idx \u001b[38;5;241m=\u001b[39m _split_index_for_jit(idx, arr\u001b[38;5;241m.\u001b[39mshape)\n\u001b[0;32m-> 7856\u001b[0m \u001b[38;5;28;01mreturn\u001b[39;00m \u001b[43m_gather\u001b[49m\u001b[43m(\u001b[49m\u001b[43marr\u001b[49m\u001b[43m,\u001b[49m\u001b[43m \u001b[49m\u001b[43mtreedef\u001b[49m\u001b[43m,\u001b[49m\u001b[43m \u001b[49m\u001b[43mstatic_idx\u001b[49m\u001b[43m,\u001b[49m\u001b[43m \u001b[49m\u001b[43mdynamic_idx\u001b[49m\u001b[43m,\u001b[49m\u001b[43m \u001b[49m\u001b[43mindices_are_sorted\u001b[49m\u001b[43m,\u001b[49m\n\u001b[1;32m   7857\u001b[0m \u001b[43m               \u001b[49m\u001b[43munique_indices\u001b[49m\u001b[43m,\u001b[49m\u001b[43m \u001b[49m\u001b[43mmode\u001b[49m\u001b[43m,\u001b[49m\u001b[43m \u001b[49m\u001b[43mfill_value\u001b[49m\u001b[43m)\u001b[49m\n",
      "File \u001b[0;32m~/mlenv/lib/python3.12/site-packages/jax/_src/numpy/lax_numpy.py:7865\u001b[0m, in \u001b[0;36m_gather\u001b[0;34m(arr, treedef, static_idx, dynamic_idx, indices_are_sorted, unique_indices, mode, fill_value)\u001b[0m\n\u001b[1;32m   7862\u001b[0m \u001b[38;5;28;01mdef\u001b[39;00m \u001b[38;5;21m_gather\u001b[39m(arr, treedef, static_idx, dynamic_idx, indices_are_sorted,\n\u001b[1;32m   7863\u001b[0m             unique_indices, mode, fill_value):\n\u001b[1;32m   7864\u001b[0m   idx \u001b[38;5;241m=\u001b[39m _merge_static_and_dynamic_indices(treedef, static_idx, dynamic_idx)\n\u001b[0;32m-> 7865\u001b[0m   indexer \u001b[38;5;241m=\u001b[39m \u001b[43m_index_to_gather\u001b[49m\u001b[43m(\u001b[49m\u001b[43mshape\u001b[49m\u001b[43m(\u001b[49m\u001b[43marr\u001b[49m\u001b[43m)\u001b[49m\u001b[43m,\u001b[49m\u001b[43m \u001b[49m\u001b[43midx\u001b[49m\u001b[43m)\u001b[49m  \u001b[38;5;66;03m# shared with _scatter_update\u001b[39;00m\n\u001b[1;32m   7866\u001b[0m   y \u001b[38;5;241m=\u001b[39m arr\n\u001b[1;32m   7868\u001b[0m   \u001b[38;5;28;01mif\u001b[39;00m fill_value \u001b[38;5;129;01mis\u001b[39;00m \u001b[38;5;129;01mnot\u001b[39;00m \u001b[38;5;28;01mNone\u001b[39;00m:\n",
      "File \u001b[0;32m~/mlenv/lib/python3.12/site-packages/jax/_src/numpy/lax_numpy.py:7973\u001b[0m, in \u001b[0;36m_index_to_gather\u001b[0;34m(x_shape, idx, normalize_indices)\u001b[0m\n\u001b[1;32m   7970\u001b[0m \u001b[38;5;28;01mdef\u001b[39;00m \u001b[38;5;21m_index_to_gather\u001b[39m(x_shape: Sequence[\u001b[38;5;28mint\u001b[39m], idx: Sequence[Any],\n\u001b[1;32m   7971\u001b[0m                      normalize_indices: \u001b[38;5;28mbool\u001b[39m \u001b[38;5;241m=\u001b[39m \u001b[38;5;28;01mTrue\u001b[39;00m) \u001b[38;5;241m-\u001b[39m\u001b[38;5;241m>\u001b[39m _Indexer:\n\u001b[1;32m   7972\u001b[0m   \u001b[38;5;66;03m# Remove ellipses and add trailing slice(None)s.\u001b[39;00m\n\u001b[0;32m-> 7973\u001b[0m   idx \u001b[38;5;241m=\u001b[39m \u001b[43m_canonicalize_tuple_index\u001b[49m\u001b[43m(\u001b[49m\u001b[38;5;28;43mlen\u001b[39;49m\u001b[43m(\u001b[49m\u001b[43mx_shape\u001b[49m\u001b[43m)\u001b[49m\u001b[43m,\u001b[49m\u001b[43m \u001b[49m\u001b[43midx\u001b[49m\u001b[43m)\u001b[49m\n\u001b[1;32m   7975\u001b[0m   \u001b[38;5;66;03m# Check for scalar boolean indexing: this requires inserting extra dimensions\u001b[39;00m\n\u001b[1;32m   7976\u001b[0m   \u001b[38;5;66;03m# before performing the rest of the logic.\u001b[39;00m\n\u001b[1;32m   7977\u001b[0m   scalar_bool_dims: Sequence[\u001b[38;5;28mint\u001b[39m] \u001b[38;5;241m=\u001b[39m [n \u001b[38;5;28;01mfor\u001b[39;00m n, i \u001b[38;5;129;01min\u001b[39;00m \u001b[38;5;28menumerate\u001b[39m(idx) \u001b[38;5;28;01mif\u001b[39;00m \u001b[38;5;28misinstance\u001b[39m(i, \u001b[38;5;28mbool\u001b[39m)]\n",
      "File \u001b[0;32m~/mlenv/lib/python3.12/site-packages/jax/_src/numpy/lax_numpy.py:8293\u001b[0m, in \u001b[0;36m_canonicalize_tuple_index\u001b[0;34m(arr_ndim, idx, array_name)\u001b[0m\n\u001b[1;32m   8291\u001b[0m num_dimensions_consumed \u001b[38;5;241m=\u001b[39m \u001b[38;5;28msum\u001b[39m(\u001b[38;5;129;01mnot\u001b[39;00m (e \u001b[38;5;129;01mis\u001b[39;00m \u001b[38;5;28;01mNone\u001b[39;00m \u001b[38;5;129;01mor\u001b[39;00m e \u001b[38;5;129;01mis\u001b[39;00m \u001b[38;5;28mEllipsis\u001b[39m \u001b[38;5;129;01mor\u001b[39;00m \u001b[38;5;28misinstance\u001b[39m(e, \u001b[38;5;28mbool\u001b[39m)) \u001b[38;5;28;01mfor\u001b[39;00m e \u001b[38;5;129;01min\u001b[39;00m idx)\n\u001b[1;32m   8292\u001b[0m \u001b[38;5;28;01mif\u001b[39;00m num_dimensions_consumed \u001b[38;5;241m>\u001b[39m arr_ndim:\n\u001b[0;32m-> 8293\u001b[0m   \u001b[38;5;28;01mraise\u001b[39;00m \u001b[38;5;167;01mIndexError\u001b[39;00m(\n\u001b[1;32m   8294\u001b[0m       \u001b[38;5;124mf\u001b[39m\u001b[38;5;124m\"\u001b[39m\u001b[38;5;124mToo many indices for \u001b[39m\u001b[38;5;132;01m{\u001b[39;00marray_name\u001b[38;5;132;01m}\u001b[39;00m\u001b[38;5;124m: \u001b[39m\u001b[38;5;132;01m{\u001b[39;00mnum_dimensions_consumed\u001b[38;5;132;01m}\u001b[39;00m\u001b[38;5;124m \u001b[39m\u001b[38;5;124m\"\u001b[39m\n\u001b[1;32m   8295\u001b[0m       \u001b[38;5;124mf\u001b[39m\u001b[38;5;124m\"\u001b[39m\u001b[38;5;124mnon-None/Ellipsis indices for dim \u001b[39m\u001b[38;5;132;01m{\u001b[39;00marr_ndim\u001b[38;5;132;01m}\u001b[39;00m\u001b[38;5;124m.\u001b[39m\u001b[38;5;124m\"\u001b[39m)\n\u001b[1;32m   8296\u001b[0m ellipses \u001b[38;5;241m=\u001b[39m (i \u001b[38;5;28;01mfor\u001b[39;00m i, elt \u001b[38;5;129;01min\u001b[39;00m \u001b[38;5;28menumerate\u001b[39m(idx) \u001b[38;5;28;01mif\u001b[39;00m elt \u001b[38;5;129;01mis\u001b[39;00m \u001b[38;5;28mEllipsis\u001b[39m)\n\u001b[1;32m   8297\u001b[0m ellipsis_index \u001b[38;5;241m=\u001b[39m \u001b[38;5;28mnext\u001b[39m(ellipses, \u001b[38;5;28;01mNone\u001b[39;00m)\n",
      "\u001b[0;31mIndexError\u001b[0m: Too many indices for array: 1 non-None/Ellipsis indices for dim 0."
     ]
    }
   ],
   "source": [
    "integration_limits = (-10.0, 10.0)\n",
    "grid_size = 100\n",
    "x = np.linspace(integration_limits[0], integration_limits[1], grid_size)\n",
    "\n",
    "# Helper function to perform integration over a grid\n",
    "def integrate_2d(f, x):\n",
    "    dx = (integration_limits[1] - integration_limits[0]) / grid_size\n",
    "    return np.sum(f * dx**2)\n",
    "\n",
    "# Define matrix element computation for ⟨Φᵢ | Ĥ | Φⱼ⟩\n",
    "def matrixElement_Phi_i_H_Phi_j():\n",
    "    integrand = vmap(lambda x1, x2: gaussian_wavefunction(r1, A, s1, c) * Hamiltonian(gaussian_wavefunction, x1, x2))(x, x)\n",
    "    return integrate_2d(integrand, x)\n",
    "\n",
    "# Example calculation\n",
    "print(\"Matrix Element ⟨Φᵢ | Ĥ | Φⱼ⟩ = \", matrixElement_Phi_i_H_Phi_j())\n"
   ]
  },
  {
   "cell_type": "code",
   "execution_count": null,
   "metadata": {},
   "outputs": [],
   "source": [
    "def calc_B_matrix(A,A_prime):\n",
    "    return A+ A_prime"
   ]
  },
  {
   "cell_type": "code",
   "execution_count": null,
   "metadata": {},
   "outputs": [],
   "source": [
    "def overlap(B, s, s_prime, c, c_prime, d=3):\n",
    "    v = s+s_prime\n",
    "    term1 = ((2*np.pi)**2 /( np.linalg.det(B)))**(d/2)\n",
    "    term2 = np.exp(-0.5 * v.T @ B @ v + c + c_prime)\n",
    "    return term1 @ term2"
   ]
  },
  {
   "cell_type": "code",
   "execution_count": 17,
   "metadata": {},
   "outputs": [
    {
     "name": "stdout",
     "output_type": "stream",
     "text": [
      "Matrix Element ⟨Φᵢ | Ĥ | Φⱼ⟩ =  nan\n"
     ]
    }
   ],
   "source": [
    "print(\"Matrix Element ⟨Φᵢ | Ĥ | Φⱼ⟩ = \", matrixElement_Phi_i_H_Phi_j())\n"
   ]
  }
 ],
 "metadata": {
  "kernelspec": {
   "display_name": "mlenv",
   "language": "python",
   "name": "python3"
  },
  "language_info": {
   "codemirror_mode": {
    "name": "ipython",
    "version": 3
   },
   "file_extension": ".py",
   "mimetype": "text/x-python",
   "name": "python",
   "nbconvert_exporter": "python",
   "pygments_lexer": "ipython3",
   "version": "3.12.4"
  }
 },
 "nbformat": 4,
 "nbformat_minor": 2
}
